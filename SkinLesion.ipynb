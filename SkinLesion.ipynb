{
 "cells": [
  {
   "cell_type": "code",
   "execution_count": 1,
   "id": "f80b74d6",
   "metadata": {},
   "outputs": [],
   "source": [
    "from pathlib import Path\n",
    "import matplotlib.pyplot as plt\n",
    "import numpy as np\n",
    "import os\n",
    "from pickle import dump\n",
    "from pickle import load\n",
    "from sklearn import svm, metrics, datasets\n",
    "from sklearn.utils import Bunch\n",
    "from sklearn.model_selection import GridSearchCV, train_test_split\n",
    "import skimage\n",
    "from skimage.io import imread\n",
    "from skimage.transform import resize\n",
    "from sklearn.metrics import classification_report, confusion_matrix, accuracy_score\n",
    "from warnings import simplefilter\n",
    "\n",
    "simplefilter(action='ignore', category=FutureWarning)"
   ]
  },
  {
   "cell_type": "markdown",
   "id": "1833c216",
   "metadata": {},
   "source": [
    "\n",
    "    Load image files with categories as subfolder names \n",
    "    which performs like scikit-learn sample dataset\n",
    "    \n",
    "    Parameters\n",
    "    ----------\n",
    "    dir_path : string  \n",
    "        Path to the main folder holding one subfolder per category\n",
    "    dimension : tuple\n",
    "        size to which image are adjusted to (resized)\n",
    "        \n",
    "    Returns\n",
    "    -------\n",
    "    Bunch\n"
   ]
  },
  {
   "cell_type": "code",
   "execution_count": 2,
   "id": "eabbde71",
   "metadata": {},
   "outputs": [],
   "source": [
    "def load_image_files(dir_path, dimension=(64, 64)):\n",
    "    image_dir = Path(dir_path)\n",
    "    folders = [directory for directory in image_dir.iterdir() if directory.is_dir()]\n",
    "    categories = [fo.name for fo in folders]\n",
    "\n",
    "    descr = \"Skin Lesion - Malanoma Dataset\"\n",
    "    images = []\n",
    "    flat_data = []\n",
    "    target = []\n",
    "    for i, direc in enumerate(folders):\n",
    "        for file in direc.iterdir():\n",
    "            img = imread(file)\n",
    "            img = skimage.io.imread(file)\n",
    "            img_resized = resize(img, dimension, anti_aliasing=True, mode='reflect')\n",
    "            flat_data.append(img_resized.flatten()) \n",
    "            images.append(img_resized)\n",
    "            target.append(i)\n",
    "    flat_data = np.array(flat_data)\n",
    "    target = np.array(target)\n",
    "    images = np.array(images)\n",
    "    return Bunch(data=flat_data,\n",
    "                 target=target,\n",
    "                 target_names=categories,\n",
    "                 images=images,\n",
    "                 DESCR=descr)"
   ]
  },
  {
   "cell_type": "code",
   "execution_count": 3,
   "id": "8a787c59",
   "metadata": {},
   "outputs": [],
   "source": [
    "def load_unseen_image(filename, dimension=(64, 64)): \n",
    "    descr = \"Unseen Dataset\"\t\n",
    "    images = []\n",
    "    flat_data = []\n",
    "    #target = []\n",
    "    img = imread(filename)\n",
    "    img = skimage.io.imread(filename)\n",
    "    img_resized = resize(img, dimension, anti_aliasing=True, mode='reflect')\n",
    "    flat_data.append(img_resized.flatten()) \n",
    "    images.append(img_resized)\n",
    "    #target.append(i)\n",
    "    flat_data = np.array(flat_data)\n",
    "    #target = np.array(target)\n",
    "    images = np.array(images)\n",
    "    return Bunch(data=flat_data, images=images, DESCR=descr) "
   ]
  },
  {
   "cell_type": "code",
   "execution_count": 4,
   "id": "05f78867",
   "metadata": {},
   "outputs": [
    {
     "name": "stdout",
     "output_type": "stream",
     "text": [
      "Loading Images...\n",
      "Loaded.\n"
     ]
    }
   ],
   "source": [
    "print('Loading Images...')\n",
    "image_dataset = load_image_files(\"images/\")\n",
    "print('Loaded.')"
   ]
  },
  {
   "cell_type": "code",
   "execution_count": 5,
   "id": "844a3c64",
   "metadata": {},
   "outputs": [
    {
     "name": "stdout",
     "output_type": "stream",
     "text": [
      "Split Training and Testing data...\n",
      "\n",
      "X_Test\n",
      "[[0.87058824 0.83529412 0.81568627 ... 0.90196078 0.86666667 0.87058824]\n",
      " [0.23137255 0.11764706 0.08627451 ... 0.16470588 0.12156863 0.11372549]\n",
      " [0.20392157 0.09019608 0.09803922 ... 0.16862745 0.07058824 0.05490196]\n",
      " ...\n",
      " [0.10980392 0.10980392 0.07843137 ... 0.07058824 0.09019608 0.10196078]\n",
      " [0.10196078 0.04313725 0.03137255 ... 0.07843137 0.01176471 0.04313725]\n",
      " [0.09803922 0.05882353 0.05490196 ... 0.09019608 0.05490196 0.03529412]]\n",
      "\n",
      "X_Test[0]\n",
      "[0.87058824 0.83529412 0.81568627 ... 0.90196078 0.86666667 0.87058824]\n",
      "\n",
      "X_Test Length\n",
      "401\n",
      "\n",
      "Data[0]\n",
      "[0.56470588 0.7254902  0.89803922 ... 0.70196078 0.90196078 0.98431373]\n",
      "\n",
      "Targrt[0]\n",
      "0\n",
      "----------------------------------------------\n",
      "\n",
      "Targets\n",
      "[0 0 0 ... 1 1 1]\n",
      "----------------------------------------------\n",
      "\n",
      "Target Length\n",
      "2001\n",
      "----------------------------------------------\n",
      "\n",
      "Target Names\n",
      "['Benign', 'Malignant']\n"
     ]
    }
   ],
   "source": [
    "# Split data\n",
    "print('Split Training and Testing data...')\n",
    "X_train, X_test, y_train, y_test = train_test_split(image_dataset.data, image_dataset.target, test_size=0.2,random_state=109)\n",
    "print('\\nX_Test')\n",
    "print(X_test)\n",
    "print('\\nX_Test[0]')\n",
    "print(X_test[0])\n",
    "print('\\nX_Test Length')\n",
    "print(len(X_test))\n",
    "print('\\nData[0]')\n",
    "print(image_dataset.data[0])\n",
    "print('\\nTargrt[0]')\n",
    "print(image_dataset.target[0])\n",
    "print('----------------------------------------------')\n",
    "print('\\nTargets')\n",
    "print(image_dataset.target)\n",
    "print('----------------------------------------------')\n",
    "print('\\nTarget Length')\n",
    "print(len(image_dataset.target))\n",
    "print('----------------------------------------------')\n",
    "print('\\nTarget Names')\n",
    "print(image_dataset.target_names)"
   ]
  },
  {
   "cell_type": "code",
   "execution_count": 6,
   "id": "cde4ea3a",
   "metadata": {},
   "outputs": [],
   "source": [
    "# Train data with parameter optimization\n",
    "param_grid = [\n",
    "  {'C': [1, 10, 100, 1000], 'kernel': ['linear','poly']},\n",
    "  {'C': [1, 10, 100, 1000], 'gamma': [0.001, 0.0001], 'kernel': ['poly','rbf']},\n",
    " ]"
   ]
  },
  {
   "cell_type": "code",
   "execution_count": 7,
   "id": "9c10ffae",
   "metadata": {},
   "outputs": [],
   "source": [
    "svc = svm.SVC()"
   ]
  },
  {
   "cell_type": "code",
   "execution_count": 8,
   "id": "1a988af1",
   "metadata": {},
   "outputs": [
    {
     "name": "stdout",
     "output_type": "stream",
     "text": [
      "Creating GridSearchCV Model with cv = 10\n",
      "Model created\n",
      "\n",
      "GridSearchCV Model\n",
      "GridSearchCV(cv=10, estimator=SVC(),\n",
      "             param_grid=[{'C': [1, 10, 100, 1000],\n",
      "                          'kernel': ['linear', 'poly']},\n",
      "                         {'C': [1, 10, 100, 1000], 'gamma': [0.001, 0.0001],\n",
      "                          'kernel': ['poly', 'rbf']}])\n",
      "Saving Trained Model to Melanoma.pkl\n",
      "Model Saved\n"
     ]
    }
   ],
   "source": [
    "clf = GridSearchCV(estimator=svc,cv = 10, param_grid=param_grid, refit=True)\n",
    "print('Creating GridSearchCV Model with cv = 10') \n",
    "model = clf.fit(X_train, y_train)\n",
    "print('Model created')\n",
    "\n",
    "print('\\nGridSearchCV Model')\n",
    "print(clf)\n",
    "# Save the model to disk\n",
    "filename = 'Melanoma.pkl'\n",
    "print('Saving Trained Model to ' + filename)\n",
    "dump(model, open(filename, 'wb'))\n",
    "print('Model Saved')"
   ]
  },
  {
   "cell_type": "code",
   "execution_count": 9,
   "id": "e96a0cc0",
   "metadata": {},
   "outputs": [
    {
     "name": "stdout",
     "output_type": "stream",
     "text": [
      "\n",
      "Loading Trained Model from Melanoma.pkl\n",
      "Accuracy (Loaded Model) :  0.8229426433915212\n"
     ]
    }
   ],
   "source": [
    "# Load the model from disk\n",
    "filename = 'Melanoma.pkl'\n",
    "print('\\nLoading Trained Model from Melanoma.pkl') \n",
    "loaded_model = load(open(filename, 'rb'))\n",
    "result = loaded_model.score(X_test, y_test)\n",
    "print('Accuracy (Loaded Model) : ', result)"
   ]
  },
  {
   "cell_type": "code",
   "execution_count": 10,
   "id": "4aec81a8",
   "metadata": {},
   "outputs": [
    {
     "name": "stdout",
     "output_type": "stream",
     "text": [
      "Predicting...\n",
      "Done\n",
      "\n",
      "Predictions\n",
      "[0 0 0 0 0 0 0 0 0 0 0 0 0 0 0 0 0 0 0 0 0 0 0 0 0 0 0 0 0 0 0 0 0 0 0 0 0\n",
      " 0 0 0 0 0 0 0 0 0 0 0 0 0 0 0 0 0 0 0 0 0 0 0 0 0 0 0 0 0 0 0 0 0 0 0 0 0\n",
      " 0 0 0 0 0 0 0 0 0 0 0 0 0 0 0 0 0 0 0 0 0 0 0 0 0 0 0 0 0 0 0 0 0 0 0 0 0\n",
      " 0 0 0 0 0 0 0 0 0 0 0 0 0 0 0 0 0 0 0 0 0 0 0 0 0 0 0 0 0 0 0 0 0 0 0 0 0\n",
      " 0 0 0 0 0 0 0 0 0 0 0 0 0 0 0 0 0 0 0 0 0 0 0 0 0 0 0 0 0 0 0 0 0 0 0 0 0\n",
      " 0 0 0 0 0 0 0 0 0 0 0 0 0 0 0 0 0 0 0 0 0 0 0 0 0 0 0 0 0 0 0 0 0 0 0 0 0\n",
      " 0 0 0 0 0 0 0 0 0 0 0 0 0 0 0 0 0 0 0 0 0 0 0 0 0 0 0 0 0 0 0 0 0 0 0 0 0\n",
      " 0 0 0 0 0 0 0 0 0 0 0 0 0 0 0 0 0 0 0 0 0 0 0 0 0 0 0 0 0 0 0 0 0 0 0 0 0\n",
      " 0 0 0 0 0 0 0 0 0 0 0 0 0 0 0 0 0 0 0 0 0 0 0 0 0 0 0 0 0 0 0 0 0 0 0 0 0\n",
      " 0 0 0 0 0 0 0 0 0 0 0 0 0 0 0 0 0 0 0 0 0 0 0 0 0 0 0 0 0 0 0 0 0 0 0 0 0\n",
      " 0 0 0 0 0 0 0 0 0 0 0 0 0 0 0 0 0 0 0 0 0 0 0 0 0 0 0 0 0 0 0]\n",
      "\n",
      "Prediction Length :  401\n"
     ]
    }
   ],
   "source": [
    "# Predict\n",
    "print('Predicting...')\n",
    "y_pred = loaded_model.predict(X_test)\n",
    "print('Done')\n",
    "print('\\nPredictions')\n",
    "print(y_pred)\n",
    "print('\\nPrediction Length : ',len(y_pred))"
   ]
  },
  {
   "cell_type": "code",
   "execution_count": 11,
   "id": "a90c6dd3",
   "metadata": {},
   "outputs": [
    {
     "name": "stdout",
     "output_type": "stream",
     "text": [
      "\n",
      "Classification Report\n",
      "              precision    recall  f1-score   support\n",
      "\n",
      "           0       0.82      1.00      0.90       330\n",
      "           1       0.00      0.00      0.00        71\n",
      "\n",
      "    accuracy                           0.82       401\n",
      "   macro avg       0.41      0.50      0.45       401\n",
      "weighted avg       0.68      0.82      0.74       401\n",
      "\n",
      "\n",
      "Y_test\n",
      "[1 1 0 0 0 0 1 0 0 0 0 1 0 0 0 0 0 0 0 0 0 0 0 0 0 0 0 0 0 0 0 0 0 0 0 0 0\n",
      " 0 0 0 0 0 1 0 0 0 0 0 0 1 0 1 0 0 0 0 0 0 0 0 0 0 0 1 0 1 0 0 1 0 0 1 0 0\n",
      " 0 1 0 0 0 1 0 0 1 0 0 0 0 0 0 0 0 0 0 0 1 1 1 0 0 0 0 0 0 0 1 0 1 0 0 0 0\n",
      " 0 1 1 0 0 1 0 0 0 0 1 0 1 1 0 0 1 0 0 0 1 0 0 0 0 1 0 0 0 1 0 0 0 0 0 0 0\n",
      " 1 0 0 0 0 0 0 0 1 0 0 0 0 0 0 0 0 0 0 0 0 1 0 0 0 0 0 0 0 0 0 0 0 0 1 1 0\n",
      " 0 0 0 1 0 0 1 0 1 0 0 0 0 0 1 0 1 1 0 0 0 1 0 0 0 0 0 0 0 1 0 1 0 0 0 1 0\n",
      " 0 0 0 0 0 0 0 0 0 0 1 0 0 0 0 0 0 0 0 0 0 1 0 0 0 0 0 1 0 0 0 0 0 0 0 0 1\n",
      " 0 1 0 0 0 0 0 0 0 0 0 0 0 0 1 0 0 0 0 1 0 0 0 0 1 0 0 1 0 0 0 0 0 0 0 0 0\n",
      " 0 0 0 0 0 0 0 0 1 1 0 0 0 0 0 1 1 0 0 0 0 0 0 0 0 0 1 0 0 0 0 0 0 0 1 1 0\n",
      " 0 0 0 0 0 0 1 0 0 0 1 0 0 0 0 1 0 0 0 1 0 0 0 0 0 0 1 0 0 0 1 0 0 0 0 0 0\n",
      " 1 0 0 0 0 0 0 0 0 1 0 0 0 0 0 1 0 0 1 0 0 0 1 0 0 0 0 0 0 0 0] 401\n",
      "\n",
      "Y_Pred\n",
      "[0 0 0 0 0 0 0 0 0 0 0 0 0 0 0 0 0 0 0 0 0 0 0 0 0 0 0 0 0 0 0 0 0 0 0 0 0\n",
      " 0 0 0 0 0 0 0 0 0 0 0 0 0 0 0 0 0 0 0 0 0 0 0 0 0 0 0 0 0 0 0 0 0 0 0 0 0\n",
      " 0 0 0 0 0 0 0 0 0 0 0 0 0 0 0 0 0 0 0 0 0 0 0 0 0 0 0 0 0 0 0 0 0 0 0 0 0\n",
      " 0 0 0 0 0 0 0 0 0 0 0 0 0 0 0 0 0 0 0 0 0 0 0 0 0 0 0 0 0 0 0 0 0 0 0 0 0\n",
      " 0 0 0 0 0 0 0 0 0 0 0 0 0 0 0 0 0 0 0 0 0 0 0 0 0 0 0 0 0 0 0 0 0 0 0 0 0\n",
      " 0 0 0 0 0 0 0 0 0 0 0 0 0 0 0 0 0 0 0 0 0 0 0 0 0 0 0 0 0 0 0 0 0 0 0 0 0\n",
      " 0 0 0 0 0 0 0 0 0 0 0 0 0 0 0 0 0 0 0 0 0 0 0 0 0 0 0 0 0 0 0 0 0 0 0 0 0\n",
      " 0 0 0 0 0 0 0 0 0 0 0 0 0 0 0 0 0 0 0 0 0 0 0 0 0 0 0 0 0 0 0 0 0 0 0 0 0\n",
      " 0 0 0 0 0 0 0 0 0 0 0 0 0 0 0 0 0 0 0 0 0 0 0 0 0 0 0 0 0 0 0 0 0 0 0 0 0\n",
      " 0 0 0 0 0 0 0 0 0 0 0 0 0 0 0 0 0 0 0 0 0 0 0 0 0 0 0 0 0 0 0 0 0 0 0 0 0\n",
      " 0 0 0 0 0 0 0 0 0 0 0 0 0 0 0 0 0 0 0 0 0 0 0 0 0 0 0 0 0 0 0] 401\n"
     ]
    },
    {
     "name": "stderr",
     "output_type": "stream",
     "text": [
      "C:\\Users\\Asus\\anaconda3\\lib\\site-packages\\sklearn\\metrics\\_classification.py:1318: UndefinedMetricWarning: Precision and F-score are ill-defined and being set to 0.0 in labels with no predicted samples. Use `zero_division` parameter to control this behavior.\n",
      "  _warn_prf(average, modifier, msg_start, len(result))\n",
      "C:\\Users\\Asus\\anaconda3\\lib\\site-packages\\sklearn\\metrics\\_classification.py:1318: UndefinedMetricWarning: Precision and F-score are ill-defined and being set to 0.0 in labels with no predicted samples. Use `zero_division` parameter to control this behavior.\n",
      "  _warn_prf(average, modifier, msg_start, len(result))\n",
      "C:\\Users\\Asus\\anaconda3\\lib\\site-packages\\sklearn\\metrics\\_classification.py:1318: UndefinedMetricWarning: Precision and F-score are ill-defined and being set to 0.0 in labels with no predicted samples. Use `zero_division` parameter to control this behavior.\n",
      "  _warn_prf(average, modifier, msg_start, len(result))\n"
     ]
    }
   ],
   "source": [
    "# Report\n",
    "print(\"\\nClassification Report\")\n",
    "print(metrics.classification_report(y_test, y_pred))\n",
    "print('\\nY_test')\n",
    "print(y_test, len(y_test))\n",
    "print('\\nY_Pred')\n",
    "print(y_pred, len(y_pred))"
   ]
  },
  {
   "cell_type": "code",
   "execution_count": 12,
   "id": "496a7557",
   "metadata": {},
   "outputs": [
    {
     "name": "stdout",
     "output_type": "stream",
     "text": [
      "\n",
      "Accuracy Score:  0.8229426433915212\n"
     ]
    }
   ],
   "source": [
    "accuracy = accuracy_score(y_test, y_pred)\t\n",
    "print(\"\\nAccuracy Score: \", accuracy)"
   ]
  },
  {
   "cell_type": "code",
   "execution_count": 13,
   "id": "2b32049c",
   "metadata": {},
   "outputs": [
    {
     "name": "stdout",
     "output_type": "stream",
     "text": [
      "Total Images :  2001\n",
      "Total Predictions :  401\n"
     ]
    }
   ],
   "source": [
    "print('Total Images : ', len(image_dataset.target))\n",
    "print('Total Predictions : ', len(y_pred))\n"
   ]
  },
  {
   "cell_type": "code",
   "execution_count": 14,
   "id": "078f3044",
   "metadata": {},
   "outputs": [
    {
     "name": "stdout",
     "output_type": "stream",
     "text": [
      "\n",
      "Manual Prediction with X_test\n",
      "\n",
      "Predictions II\n",
      "[0]\n",
      "\n",
      "Predictions III\n",
      "[0]\n",
      "\n",
      "Predictions IV\n",
      "[0]\n"
     ]
    }
   ],
   "source": [
    "print('\\nManual Prediction with X_test')\n",
    "y_pred2 = loaded_model.predict(X_test[0].reshape(1, -1))\n",
    "print('\\nPredictions II')\n",
    "print(y_pred2)\n",
    "\n",
    "y_pred3 = loaded_model.predict(X_test[300].reshape(1, -1))\n",
    "print('\\nPredictions III')\n",
    "print(y_pred3)\n",
    "\n",
    "y_pred4 = loaded_model.predict(X_test[190].reshape(1, -1))\n",
    "print('\\nPredictions IV')\n",
    "print(y_pred4)"
   ]
  },
  {
   "cell_type": "code",
   "execution_count": 15,
   "id": "c6e6e64e",
   "metadata": {},
   "outputs": [
    {
     "name": "stdout",
     "output_type": "stream",
     "text": [
      "\n",
      "Predictions V\n",
      "[0]\n",
      "\n",
      "Predictions V\n",
      "[0]\n",
      "\n",
      "Predictions V\n",
      "[0]\n",
      "\n",
      "Predictions V\n",
      "[0]\n",
      "\n",
      "Predictions V\n",
      "[0]\n"
     ]
    }
   ],
   "source": [
    "lst = [187,201,214,244,397]\n",
    "for i in lst:\n",
    "    y_predN = loaded_model.predict(X_test[i].reshape(1, -1))\n",
    "    print('\\nPredictions V')\n",
    "    print(y_predN)"
   ]
  },
  {
   "cell_type": "code",
   "execution_count": 16,
   "id": "dc7ec36d",
   "metadata": {},
   "outputs": [
    {
     "name": "stdout",
     "output_type": "stream",
     "text": [
      "ISIC_0000001.jpg (Transformed) :  [[0.48235294 0.47843137 0.50980392 ... 0.68627451 0.67843137 0.72156863]]\n",
      "\n",
      "\n",
      "Predictions unseen loaded image\n",
      "[0]\n"
     ]
    }
   ],
   "source": [
    "# images/Benign/ISIC_0000001.jpg\n",
    "unseen = load_unseen_image('images/Benign/ISIC_0000001.jpg')\n",
    "#print(len(unseen.data))\n",
    "print('ISIC_0000001.jpg (Transformed) : ', unseen.data)\n",
    "\n",
    "# Predicting loaded image (Benign)\n",
    "y_predUnseen = loaded_model.predict(unseen.data.reshape(1, -1))\n",
    "print('\\n\\nPredictions unseen loaded image')\n",
    "print(y_predUnseen)"
   ]
  },
  {
   "cell_type": "code",
   "execution_count": 18,
   "id": "45a96047",
   "metadata": {},
   "outputs": [
    {
     "name": "stdout",
     "output_type": "stream",
     "text": [
      "ISIC_00000299.jpg (Transformed) :  [[0.17647059 0.15686275 0.18431373 ... 0.1372549  0.07058824 0.10196078]]\n",
      "\n",
      "\n",
      "Predictions unseen loaded image\n",
      "[0]\n"
     ]
    }
   ],
   "source": [
    "# Predicting loaded image (Malignant)\n",
    "unseen2 = load_unseen_image('images/Malignant/ISIC_0000299.jpg')\n",
    "print('ISIC_00000299.jpg (Transformed) : ', unseen2.data)\n",
    "y_predUnseen2 = loaded_model.predict(unseen2.data.reshape(1, -1))\n",
    "print('\\n\\nPredictions unseen loaded image')\n",
    "print(y_predUnseen2)"
   ]
  },
  {
   "cell_type": "code",
   "execution_count": null,
   "id": "c00f5918",
   "metadata": {},
   "outputs": [],
   "source": []
  },
  {
   "cell_type": "code",
   "execution_count": null,
   "id": "fd0ee6ef",
   "metadata": {},
   "outputs": [],
   "source": []
  }
 ],
 "metadata": {
  "kernelspec": {
   "display_name": "Python 3 (ipykernel)",
   "language": "python",
   "name": "python3"
  },
  "language_info": {
   "codemirror_mode": {
    "name": "ipython",
    "version": 3
   },
   "file_extension": ".py",
   "mimetype": "text/x-python",
   "name": "python",
   "nbconvert_exporter": "python",
   "pygments_lexer": "ipython3",
   "version": "3.9.12"
  }
 },
 "nbformat": 4,
 "nbformat_minor": 5
}
